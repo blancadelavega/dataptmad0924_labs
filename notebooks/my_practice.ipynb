{
 "cells": [
  {
   "cell_type": "code",
   "execution_count": 1,
   "id": "91495435",
   "metadata": {},
   "outputs": [],
   "source": [
    "import pandas as pd"
   ]
  },
  {
   "cell_type": "code",
   "execution_count": 2,
   "id": "e767bc9f",
   "metadata": {},
   "outputs": [
    {
     "data": {
      "text/plain": [
       "{'employee_id': [1, 2, 3, 4],\n",
       " 'salary': [1000, 1100, 1200, 1300],\n",
       " 'age': [23, 25, 28, 32]}"
      ]
     },
     "execution_count": 2,
     "metadata": {},
     "output_type": "execute_result"
    }
   ],
   "source": [
    "data = {\n",
    "    \"employee_id\": [1,2,3,4],\n",
    "    \"salary\": [1000,1100,1200,1300],\n",
    "    \"age\": [23,25,28,32]\n",
    "}\n",
    "data"
   ]
  },
  {
   "cell_type": "code",
   "execution_count": 3,
   "id": "0d34855e",
   "metadata": {},
   "outputs": [
    {
     "data": {
      "text/html": [
       "<div>\n",
       "<style scoped>\n",
       "    .dataframe tbody tr th:only-of-type {\n",
       "        vertical-align: middle;\n",
       "    }\n",
       "\n",
       "    .dataframe tbody tr th {\n",
       "        vertical-align: top;\n",
       "    }\n",
       "\n",
       "    .dataframe thead th {\n",
       "        text-align: right;\n",
       "    }\n",
       "</style>\n",
       "<table border=\"1\" class=\"dataframe\">\n",
       "  <thead>\n",
       "    <tr style=\"text-align: right;\">\n",
       "      <th></th>\n",
       "      <th>employee_id</th>\n",
       "      <th>salary</th>\n",
       "      <th>age</th>\n",
       "    </tr>\n",
       "  </thead>\n",
       "  <tbody>\n",
       "    <tr>\n",
       "      <th>0</th>\n",
       "      <td>1</td>\n",
       "      <td>1000</td>\n",
       "      <td>23</td>\n",
       "    </tr>\n",
       "    <tr>\n",
       "      <th>1</th>\n",
       "      <td>2</td>\n",
       "      <td>1100</td>\n",
       "      <td>25</td>\n",
       "    </tr>\n",
       "    <tr>\n",
       "      <th>2</th>\n",
       "      <td>3</td>\n",
       "      <td>1200</td>\n",
       "      <td>28</td>\n",
       "    </tr>\n",
       "    <tr>\n",
       "      <th>3</th>\n",
       "      <td>4</td>\n",
       "      <td>1300</td>\n",
       "      <td>32</td>\n",
       "    </tr>\n",
       "  </tbody>\n",
       "</table>\n",
       "</div>"
      ],
      "text/plain": [
       "   employee_id  salary  age\n",
       "0            1    1000   23\n",
       "1            2    1100   25\n",
       "2            3    1200   28\n",
       "3            4    1300   32"
      ]
     },
     "execution_count": 3,
     "metadata": {},
     "output_type": "execute_result"
    }
   ],
   "source": [
    "df = pd.DataFrame(data)\n",
    "df"
   ]
  },
  {
   "cell_type": "code",
   "execution_count": 4,
   "id": "84961063",
   "metadata": {},
   "outputs": [],
   "source": [
    "def suma_uno (numero):\n",
    "    numero = numero + 1\n",
    "    return numero"
   ]
  },
  {
   "cell_type": "code",
   "execution_count": 5,
   "id": "2e83956f",
   "metadata": {},
   "outputs": [
    {
     "data": {
      "text/plain": [
       "20"
      ]
     },
     "execution_count": 5,
     "metadata": {},
     "output_type": "execute_result"
    }
   ],
   "source": [
    "suma_uno(19)"
   ]
  },
  {
   "cell_type": "code",
   "execution_count": 6,
   "id": "79764f45",
   "metadata": {},
   "outputs": [
    {
     "data": {
      "text/html": [
       "<div>\n",
       "<style scoped>\n",
       "    .dataframe tbody tr th:only-of-type {\n",
       "        vertical-align: middle;\n",
       "    }\n",
       "\n",
       "    .dataframe tbody tr th {\n",
       "        vertical-align: top;\n",
       "    }\n",
       "\n",
       "    .dataframe thead th {\n",
       "        text-align: right;\n",
       "    }\n",
       "</style>\n",
       "<table border=\"1\" class=\"dataframe\">\n",
       "  <thead>\n",
       "    <tr style=\"text-align: right;\">\n",
       "      <th></th>\n",
       "      <th>employee_id</th>\n",
       "      <th>salary</th>\n",
       "      <th>age</th>\n",
       "    </tr>\n",
       "  </thead>\n",
       "  <tbody>\n",
       "    <tr>\n",
       "      <th>0</th>\n",
       "      <td>2</td>\n",
       "      <td>1001</td>\n",
       "      <td>24</td>\n",
       "    </tr>\n",
       "    <tr>\n",
       "      <th>1</th>\n",
       "      <td>3</td>\n",
       "      <td>1101</td>\n",
       "      <td>26</td>\n",
       "    </tr>\n",
       "    <tr>\n",
       "      <th>2</th>\n",
       "      <td>4</td>\n",
       "      <td>1201</td>\n",
       "      <td>29</td>\n",
       "    </tr>\n",
       "    <tr>\n",
       "      <th>3</th>\n",
       "      <td>5</td>\n",
       "      <td>1301</td>\n",
       "      <td>33</td>\n",
       "    </tr>\n",
       "  </tbody>\n",
       "</table>\n",
       "</div>"
      ],
      "text/plain": [
       "   employee_id  salary  age\n",
       "0            2    1001   24\n",
       "1            3    1101   26\n",
       "2            4    1201   29\n",
       "3            5    1301   33"
      ]
     },
     "execution_count": 6,
     "metadata": {},
     "output_type": "execute_result"
    }
   ],
   "source": [
    "df.apply(suma_uno)"
   ]
  },
  {
   "cell_type": "code",
   "execution_count": 8,
   "id": "522a24df",
   "metadata": {},
   "outputs": [
    {
     "data": {
      "text/plain": [
       "0    2\n",
       "1    3\n",
       "2    4\n",
       "3    5\n",
       "Name: employee_id, dtype: int64"
      ]
     },
     "execution_count": 8,
     "metadata": {},
     "output_type": "execute_result"
    }
   ],
   "source": [
    "df[\"employee_id\"].apply(suma_uno)"
   ]
  },
  {
   "cell_type": "code",
   "execution_count": 9,
   "id": "0022f028",
   "metadata": {},
   "outputs": [],
   "source": [
    "l = lambda x: x+100"
   ]
  },
  {
   "cell_type": "code",
   "execution_count": 10,
   "id": "bcfe63da",
   "metadata": {},
   "outputs": [
    {
     "data": {
      "text/plain": [
       "126"
      ]
     },
     "execution_count": 10,
     "metadata": {},
     "output_type": "execute_result"
    }
   ],
   "source": [
    "l(26)"
   ]
  },
  {
   "cell_type": "code",
   "execution_count": 12,
   "id": "77160f90",
   "metadata": {},
   "outputs": [
    {
     "data": {
      "text/html": [
       "<div>\n",
       "<style scoped>\n",
       "    .dataframe tbody tr th:only-of-type {\n",
       "        vertical-align: middle;\n",
       "    }\n",
       "\n",
       "    .dataframe tbody tr th {\n",
       "        vertical-align: top;\n",
       "    }\n",
       "\n",
       "    .dataframe thead th {\n",
       "        text-align: right;\n",
       "    }\n",
       "</style>\n",
       "<table border=\"1\" class=\"dataframe\">\n",
       "  <thead>\n",
       "    <tr style=\"text-align: right;\">\n",
       "      <th></th>\n",
       "      <th>employee_id</th>\n",
       "      <th>salary</th>\n",
       "      <th>age</th>\n",
       "    </tr>\n",
       "  </thead>\n",
       "  <tbody>\n",
       "    <tr>\n",
       "      <th>0</th>\n",
       "      <td>2</td>\n",
       "      <td>1001</td>\n",
       "      <td>24</td>\n",
       "    </tr>\n",
       "    <tr>\n",
       "      <th>1</th>\n",
       "      <td>3</td>\n",
       "      <td>1101</td>\n",
       "      <td>26</td>\n",
       "    </tr>\n",
       "    <tr>\n",
       "      <th>2</th>\n",
       "      <td>4</td>\n",
       "      <td>1201</td>\n",
       "      <td>29</td>\n",
       "    </tr>\n",
       "    <tr>\n",
       "      <th>3</th>\n",
       "      <td>5</td>\n",
       "      <td>1301</td>\n",
       "      <td>33</td>\n",
       "    </tr>\n",
       "  </tbody>\n",
       "</table>\n",
       "</div>"
      ],
      "text/plain": [
       "   employee_id  salary  age\n",
       "0            2    1001   24\n",
       "1            3    1101   26\n",
       "2            4    1201   29\n",
       "3            5    1301   33"
      ]
     },
     "execution_count": 12,
     "metadata": {},
     "output_type": "execute_result"
    }
   ],
   "source": [
    "df.apply(lambda row: row +1)"
   ]
  },
  {
   "cell_type": "code",
   "execution_count": 13,
   "id": "13c4127e",
   "metadata": {},
   "outputs": [
    {
     "data": {
      "text/plain": [
       "0    2\n",
       "1    3\n",
       "2    4\n",
       "3    5\n",
       "dtype: int64"
      ]
     },
     "execution_count": 13,
     "metadata": {},
     "output_type": "execute_result"
    }
   ],
   "source": [
    "df.apply(lambda row: row[\"employee_id\"] +1, axis=1)"
   ]
  },
  {
   "cell_type": "code",
   "execution_count": 15,
   "id": "94b7c89c",
   "metadata": {},
   "outputs": [
    {
     "data": {
      "text/html": [
       "<div>\n",
       "<style scoped>\n",
       "    .dataframe tbody tr th:only-of-type {\n",
       "        vertical-align: middle;\n",
       "    }\n",
       "\n",
       "    .dataframe tbody tr th {\n",
       "        vertical-align: top;\n",
       "    }\n",
       "\n",
       "    .dataframe thead th {\n",
       "        text-align: right;\n",
       "    }\n",
       "</style>\n",
       "<table border=\"1\" class=\"dataframe\">\n",
       "  <thead>\n",
       "    <tr style=\"text-align: right;\">\n",
       "      <th></th>\n",
       "      <th>employee_id</th>\n",
       "      <th>salary</th>\n",
       "      <th>age</th>\n",
       "      <th>employee_id_correcto</th>\n",
       "    </tr>\n",
       "  </thead>\n",
       "  <tbody>\n",
       "    <tr>\n",
       "      <th>0</th>\n",
       "      <td>1</td>\n",
       "      <td>1000</td>\n",
       "      <td>23</td>\n",
       "      <td>2</td>\n",
       "    </tr>\n",
       "    <tr>\n",
       "      <th>1</th>\n",
       "      <td>2</td>\n",
       "      <td>1100</td>\n",
       "      <td>25</td>\n",
       "      <td>3</td>\n",
       "    </tr>\n",
       "    <tr>\n",
       "      <th>2</th>\n",
       "      <td>3</td>\n",
       "      <td>1200</td>\n",
       "      <td>28</td>\n",
       "      <td>4</td>\n",
       "    </tr>\n",
       "    <tr>\n",
       "      <th>3</th>\n",
       "      <td>4</td>\n",
       "      <td>1300</td>\n",
       "      <td>32</td>\n",
       "      <td>5</td>\n",
       "    </tr>\n",
       "  </tbody>\n",
       "</table>\n",
       "</div>"
      ],
      "text/plain": [
       "   employee_id  salary  age  employee_id_correcto\n",
       "0            1    1000   23                     2\n",
       "1            2    1100   25                     3\n",
       "2            3    1200   28                     4\n",
       "3            4    1300   32                     5"
      ]
     },
     "execution_count": 15,
     "metadata": {},
     "output_type": "execute_result"
    }
   ],
   "source": [
    "#Para implementarlo\n",
    "df[\"employee_id_correcto\"] = df.apply(lambda row: row[\"employee_id\"] +1, axis=1)\n",
    "df"
   ]
  },
  {
   "cell_type": "code",
   "execution_count": 22,
   "id": "3d7bcef4",
   "metadata": {},
   "outputs": [],
   "source": [
    "df[\"name\"] = [\"blanca\", \"jose luis\", \"kristina\", \"victor\"]"
   ]
  },
  {
   "cell_type": "code",
   "execution_count": 17,
   "id": "b8b39b65",
   "metadata": {},
   "outputs": [
    {
     "data": {
      "text/html": [
       "<div>\n",
       "<style scoped>\n",
       "    .dataframe tbody tr th:only-of-type {\n",
       "        vertical-align: middle;\n",
       "    }\n",
       "\n",
       "    .dataframe tbody tr th {\n",
       "        vertical-align: top;\n",
       "    }\n",
       "\n",
       "    .dataframe thead th {\n",
       "        text-align: right;\n",
       "    }\n",
       "</style>\n",
       "<table border=\"1\" class=\"dataframe\">\n",
       "  <thead>\n",
       "    <tr style=\"text-align: right;\">\n",
       "      <th></th>\n",
       "      <th>employee_id</th>\n",
       "      <th>salary</th>\n",
       "      <th>age</th>\n",
       "      <th>employee_id_correcto</th>\n",
       "      <th>name</th>\n",
       "    </tr>\n",
       "  </thead>\n",
       "  <tbody>\n",
       "    <tr>\n",
       "      <th>0</th>\n",
       "      <td>1</td>\n",
       "      <td>1000</td>\n",
       "      <td>23</td>\n",
       "      <td>2</td>\n",
       "      <td>blanca</td>\n",
       "    </tr>\n",
       "    <tr>\n",
       "      <th>1</th>\n",
       "      <td>2</td>\n",
       "      <td>1100</td>\n",
       "      <td>25</td>\n",
       "      <td>3</td>\n",
       "      <td>jose luis</td>\n",
       "    </tr>\n",
       "    <tr>\n",
       "      <th>2</th>\n",
       "      <td>3</td>\n",
       "      <td>1200</td>\n",
       "      <td>28</td>\n",
       "      <td>4</td>\n",
       "      <td>kristina</td>\n",
       "    </tr>\n",
       "    <tr>\n",
       "      <th>3</th>\n",
       "      <td>4</td>\n",
       "      <td>1300</td>\n",
       "      <td>32</td>\n",
       "      <td>5</td>\n",
       "      <td>victor</td>\n",
       "    </tr>\n",
       "  </tbody>\n",
       "</table>\n",
       "</div>"
      ],
      "text/plain": [
       "   employee_id  salary  age  employee_id_correcto       name\n",
       "0            1    1000   23                     2     blanca\n",
       "1            2    1100   25                     3  jose luis\n",
       "2            3    1200   28                     4   kristina\n",
       "3            4    1300   32                     5     victor"
      ]
     },
     "execution_count": 17,
     "metadata": {},
     "output_type": "execute_result"
    }
   ],
   "source": [
    "df"
   ]
  },
  {
   "cell_type": "code",
   "execution_count": 18,
   "id": "35deb278",
   "metadata": {},
   "outputs": [
    {
     "name": "stdout",
     "output_type": "stream",
     "text": [
      "<class 'pandas.core.frame.DataFrame'>\n",
      "RangeIndex: 4 entries, 0 to 3\n",
      "Data columns (total 5 columns):\n",
      " #   Column                Non-Null Count  Dtype \n",
      "---  ------                --------------  ----- \n",
      " 0   employee_id           4 non-null      int64 \n",
      " 1   salary                4 non-null      int64 \n",
      " 2   age                   4 non-null      int64 \n",
      " 3   employee_id_correcto  4 non-null      int64 \n",
      " 4   name                  4 non-null      object\n",
      "dtypes: int64(4), object(1)\n",
      "memory usage: 288.0+ bytes\n"
     ]
    }
   ],
   "source": [
    "df.info()"
   ]
  },
  {
   "cell_type": "code",
   "execution_count": 26,
   "id": "09ed9d44",
   "metadata": {},
   "outputs": [
    {
     "data": {
      "text/plain": [
       "0       Blanca\n",
       "1    Jose luis\n",
       "2     Kristina\n",
       "3       Victor\n",
       "dtype: object"
      ]
     },
     "execution_count": 26,
     "metadata": {},
     "output_type": "execute_result"
    }
   ],
   "source": [
    "df.apply(lambda row: row[\"name\"].capitalize(), axis=1)"
   ]
  },
  {
   "cell_type": "code",
   "execution_count": 28,
   "id": "845e51b1",
   "metadata": {},
   "outputs": [
    {
     "data": {
      "text/html": [
       "<div>\n",
       "<style scoped>\n",
       "    .dataframe tbody tr th:only-of-type {\n",
       "        vertical-align: middle;\n",
       "    }\n",
       "\n",
       "    .dataframe tbody tr th {\n",
       "        vertical-align: top;\n",
       "    }\n",
       "\n",
       "    .dataframe thead th {\n",
       "        text-align: right;\n",
       "    }\n",
       "</style>\n",
       "<table border=\"1\" class=\"dataframe\">\n",
       "  <thead>\n",
       "    <tr style=\"text-align: right;\">\n",
       "      <th></th>\n",
       "      <th>employee_id</th>\n",
       "      <th>salary</th>\n",
       "      <th>age</th>\n",
       "      <th>employee_id_correcto</th>\n",
       "      <th>name</th>\n",
       "      <th>name_capitalize</th>\n",
       "    </tr>\n",
       "  </thead>\n",
       "  <tbody>\n",
       "    <tr>\n",
       "      <th>0</th>\n",
       "      <td>1</td>\n",
       "      <td>1000</td>\n",
       "      <td>23</td>\n",
       "      <td>2</td>\n",
       "      <td>blanca</td>\n",
       "      <td>Blanca</td>\n",
       "    </tr>\n",
       "    <tr>\n",
       "      <th>1</th>\n",
       "      <td>2</td>\n",
       "      <td>1100</td>\n",
       "      <td>25</td>\n",
       "      <td>3</td>\n",
       "      <td>jose luis</td>\n",
       "      <td>Jose luis</td>\n",
       "    </tr>\n",
       "    <tr>\n",
       "      <th>2</th>\n",
       "      <td>3</td>\n",
       "      <td>1200</td>\n",
       "      <td>28</td>\n",
       "      <td>4</td>\n",
       "      <td>kristina</td>\n",
       "      <td>Kristina</td>\n",
       "    </tr>\n",
       "    <tr>\n",
       "      <th>3</th>\n",
       "      <td>4</td>\n",
       "      <td>1300</td>\n",
       "      <td>32</td>\n",
       "      <td>5</td>\n",
       "      <td>victor</td>\n",
       "      <td>Victor</td>\n",
       "    </tr>\n",
       "  </tbody>\n",
       "</table>\n",
       "</div>"
      ],
      "text/plain": [
       "   employee_id  salary  age  employee_id_correcto       name name_capitalize\n",
       "0            1    1000   23                     2     blanca          Blanca\n",
       "1            2    1100   25                     3  jose luis       Jose luis\n",
       "2            3    1200   28                     4   kristina        Kristina\n",
       "3            4    1300   32                     5     victor          Victor"
      ]
     },
     "execution_count": 28,
     "metadata": {},
     "output_type": "execute_result"
    }
   ],
   "source": [
    "df[\"name_capitalize\"] = df.apply(lambda row: row[\"name\"].capitalize(), axis=1)\n",
    "df"
   ]
  },
  {
   "cell_type": "code",
   "execution_count": 29,
   "id": "f03fad12",
   "metadata": {},
   "outputs": [
    {
     "data": {
      "text/plain": [
       "0       Blanca - 1000\n",
       "1    Jose luis - 1100\n",
       "2     Kristina - 1200\n",
       "3       Victor - 1300\n",
       "dtype: object"
      ]
     },
     "execution_count": 29,
     "metadata": {},
     "output_type": "execute_result"
    }
   ],
   "source": [
    "df.apply(lambda row: row[\"name_capitalize\"] + \" - \" + str(row[\"salary\"]), axis=\"columns\")"
   ]
  },
  {
   "cell_type": "code",
   "execution_count": 31,
   "id": "107072a9",
   "metadata": {},
   "outputs": [
    {
     "data": {
      "text/html": [
       "<div>\n",
       "<style scoped>\n",
       "    .dataframe tbody tr th:only-of-type {\n",
       "        vertical-align: middle;\n",
       "    }\n",
       "\n",
       "    .dataframe tbody tr th {\n",
       "        vertical-align: top;\n",
       "    }\n",
       "\n",
       "    .dataframe thead th {\n",
       "        text-align: right;\n",
       "    }\n",
       "</style>\n",
       "<table border=\"1\" class=\"dataframe\">\n",
       "  <thead>\n",
       "    <tr style=\"text-align: right;\">\n",
       "      <th></th>\n",
       "      <th>employee_id</th>\n",
       "      <th>salary</th>\n",
       "      <th>age</th>\n",
       "      <th>employee_id_correcto</th>\n",
       "      <th>name</th>\n",
       "      <th>name_capitalize</th>\n",
       "      <th>name_salary</th>\n",
       "    </tr>\n",
       "  </thead>\n",
       "  <tbody>\n",
       "    <tr>\n",
       "      <th>0</th>\n",
       "      <td>1</td>\n",
       "      <td>1000</td>\n",
       "      <td>23</td>\n",
       "      <td>2</td>\n",
       "      <td>blanca</td>\n",
       "      <td>Blanca</td>\n",
       "      <td>Blanca - 1000</td>\n",
       "    </tr>\n",
       "    <tr>\n",
       "      <th>1</th>\n",
       "      <td>2</td>\n",
       "      <td>1100</td>\n",
       "      <td>25</td>\n",
       "      <td>3</td>\n",
       "      <td>jose luis</td>\n",
       "      <td>Jose luis</td>\n",
       "      <td>Jose luis - 1100</td>\n",
       "    </tr>\n",
       "    <tr>\n",
       "      <th>2</th>\n",
       "      <td>3</td>\n",
       "      <td>1200</td>\n",
       "      <td>28</td>\n",
       "      <td>4</td>\n",
       "      <td>kristina</td>\n",
       "      <td>Kristina</td>\n",
       "      <td>Kristina - 1200</td>\n",
       "    </tr>\n",
       "    <tr>\n",
       "      <th>3</th>\n",
       "      <td>4</td>\n",
       "      <td>1300</td>\n",
       "      <td>32</td>\n",
       "      <td>5</td>\n",
       "      <td>victor</td>\n",
       "      <td>Victor</td>\n",
       "      <td>Victor - 1300</td>\n",
       "    </tr>\n",
       "  </tbody>\n",
       "</table>\n",
       "</div>"
      ],
      "text/plain": [
       "   employee_id  salary  age  employee_id_correcto       name name_capitalize  \\\n",
       "0            1    1000   23                     2     blanca          Blanca   \n",
       "1            2    1100   25                     3  jose luis       Jose luis   \n",
       "2            3    1200   28                     4   kristina        Kristina   \n",
       "3            4    1300   32                     5     victor          Victor   \n",
       "\n",
       "        name_salary  \n",
       "0     Blanca - 1000  \n",
       "1  Jose luis - 1100  \n",
       "2   Kristina - 1200  \n",
       "3     Victor - 1300  "
      ]
     },
     "execution_count": 31,
     "metadata": {},
     "output_type": "execute_result"
    }
   ],
   "source": [
    "df[\"name_salary\"] = df.apply(lambda row: row[\"name_capitalize\"] + \" - \" + str(row[\"salary\"]), axis=\"columns\")\n",
    "df"
   ]
  },
  {
   "cell_type": "code",
   "execution_count": 35,
   "id": "363ffb60",
   "metadata": {},
   "outputs": [
    {
     "data": {
      "text/plain": [
       "0    1000\n",
       "1    1100\n",
       "2    1200\n",
       "3    1800\n",
       "dtype: int64"
      ]
     },
     "execution_count": 35,
     "metadata": {},
     "output_type": "execute_result"
    }
   ],
   "source": [
    "df.apply(lambda row: row[\"salary\"] + 500 if row[\"name\"] == \"victor\" else row[\"salary\"], axis= 1)"
   ]
  },
  {
   "cell_type": "code",
   "execution_count": 39,
   "id": "e14eb75a",
   "metadata": {},
   "outputs": [
    {
     "data": {
      "text/html": [
       "<div>\n",
       "<style scoped>\n",
       "    .dataframe tbody tr th:only-of-type {\n",
       "        vertical-align: middle;\n",
       "    }\n",
       "\n",
       "    .dataframe tbody tr th {\n",
       "        vertical-align: top;\n",
       "    }\n",
       "\n",
       "    .dataframe thead th {\n",
       "        text-align: right;\n",
       "    }\n",
       "</style>\n",
       "<table border=\"1\" class=\"dataframe\">\n",
       "  <thead>\n",
       "    <tr style=\"text-align: right;\">\n",
       "      <th></th>\n",
       "      <th>employee_id</th>\n",
       "      <th>salary</th>\n",
       "      <th>age</th>\n",
       "      <th>employee_id_correcto</th>\n",
       "      <th>name</th>\n",
       "      <th>name_capitalize</th>\n",
       "      <th>name_salary</th>\n",
       "      <th>salary_increased</th>\n",
       "    </tr>\n",
       "  </thead>\n",
       "  <tbody>\n",
       "    <tr>\n",
       "      <th>0</th>\n",
       "      <td>1</td>\n",
       "      <td>1000</td>\n",
       "      <td>23</td>\n",
       "      <td>2</td>\n",
       "      <td>blanca</td>\n",
       "      <td>Blanca</td>\n",
       "      <td>Blanca - 1000</td>\n",
       "      <td>1300</td>\n",
       "    </tr>\n",
       "    <tr>\n",
       "      <th>1</th>\n",
       "      <td>2</td>\n",
       "      <td>1100</td>\n",
       "      <td>25</td>\n",
       "      <td>3</td>\n",
       "      <td>jose luis</td>\n",
       "      <td>Jose luis</td>\n",
       "      <td>Jose luis - 1100</td>\n",
       "      <td>1400</td>\n",
       "    </tr>\n",
       "    <tr>\n",
       "      <th>2</th>\n",
       "      <td>3</td>\n",
       "      <td>1200</td>\n",
       "      <td>28</td>\n",
       "      <td>4</td>\n",
       "      <td>kristina</td>\n",
       "      <td>Kristina</td>\n",
       "      <td>Kristina - 1200</td>\n",
       "      <td>1500</td>\n",
       "    </tr>\n",
       "    <tr>\n",
       "      <th>3</th>\n",
       "      <td>4</td>\n",
       "      <td>1300</td>\n",
       "      <td>32</td>\n",
       "      <td>5</td>\n",
       "      <td>victor</td>\n",
       "      <td>Victor</td>\n",
       "      <td>Victor - 1300</td>\n",
       "      <td>1800</td>\n",
       "    </tr>\n",
       "  </tbody>\n",
       "</table>\n",
       "</div>"
      ],
      "text/plain": [
       "   employee_id  salary  age  employee_id_correcto       name name_capitalize  \\\n",
       "0            1    1000   23                     2     blanca          Blanca   \n",
       "1            2    1100   25                     3  jose luis       Jose luis   \n",
       "2            3    1200   28                     4   kristina        Kristina   \n",
       "3            4    1300   32                     5     victor          Victor   \n",
       "\n",
       "        name_salary  salary_increased  \n",
       "0     Blanca - 1000              1300  \n",
       "1  Jose luis - 1100              1400  \n",
       "2   Kristina - 1200              1500  \n",
       "3     Victor - 1300              1800  "
      ]
     },
     "execution_count": 39,
     "metadata": {},
     "output_type": "execute_result"
    }
   ],
   "source": [
    "df[\"salary_increased\"]=df.apply(lambda row: row[\"salary\"] + 500 if row[\"name\"] == \"victor\" else row[\"salary\"]+300, axis= 1)\n",
    "df"
   ]
  },
  {
   "cell_type": "code",
   "execution_count": null,
   "id": "7ef503e7",
   "metadata": {},
   "outputs": [],
   "source": [
    "df[\"salary\"] = df[\"salary_increased\"]"
   ]
  }
 ],
 "metadata": {
  "kernelspec": {
   "display_name": "Python [conda env:m1]",
   "language": "python",
   "name": "conda-env-m1-py"
  },
  "language_info": {
   "codemirror_mode": {
    "name": "ipython",
    "version": 3
   },
   "file_extension": ".py",
   "mimetype": "text/x-python",
   "name": "python",
   "nbconvert_exporter": "python",
   "pygments_lexer": "ipython3",
   "version": "3.10.14"
  }
 },
 "nbformat": 4,
 "nbformat_minor": 5
}
