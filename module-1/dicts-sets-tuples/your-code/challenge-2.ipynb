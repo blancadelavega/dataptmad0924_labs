{
 "cells": [
  {
   "cell_type": "markdown",
   "metadata": {},
   "source": [
    "## Challenge 2: Sets\n",
    "\n",
    "There are a lot to learn about Python Sets and the information presented in the lesson is limited due to its length. To learn Python Sets in depth you are strongly encouraged to review the W3Schools tutorial on [Python Sets Examples and Methods](https://www.w3schools.com/python/python_sets.asp) before you work on this lab. Some difficult questions in this lab have their solutions in the W3Schools tutorial.\n",
    "\n",
    "#### First, import the Python `random` library."
   ]
  },
  {
   "cell_type": "code",
   "execution_count": 1,
   "metadata": {},
   "outputs": [],
   "source": [
    "import random"
   ]
  },
  {
   "cell_type": "markdown",
   "metadata": {},
   "source": [
    "#### In the cell below, create a list named `sample_list_1` with 80 random values. \n",
    "\n",
    "Requirements:\n",
    "\n",
    "* Each value is an integer falling between 0 and 100.\n",
    "* Each value in the list is unique.\n",
    "\n",
    "Print `sample_list_1` to review its values\n",
    "\n",
    "*Hint: use `random.sample` ([reference](https://docs.python.org/3/library/random.html#random.sample)).*"
   ]
  },
  {
   "cell_type": "code",
   "execution_count": 42,
   "metadata": {},
   "outputs": [
    {
     "name": "stdout",
     "output_type": "stream",
     "text": [
      "[44, 25, 98, 31, 16, 22, 33, 47, 28, 3, 21, 97, 62, 82, 70, 84, 38, 17, 51, 85, 54, 8, 58, 68, 90, 89, 53, 5, 9, 39, 30, 60, 15, 72, 23, 77, 46, 0, 49, 4, 50, 65, 80, 93, 14, 52, 83, 55, 71, 24, 48, 12, 94, 59, 63, 99, 42, 56, 74, 34, 95, 2, 19, 66, 6, 87, 26, 35, 88, 73, 27, 37, 64, 91, 43, 10, 67, 36, 61, 7]\n",
      "80\n"
     ]
    }
   ],
   "source": [
    "sample_list_1=random.sample(range(0,101),80)\n",
    "print(sample_list_1)\n",
    "print(len(sample_list_1))\n"
   ]
  },
  {
   "cell_type": "markdown",
   "metadata": {},
   "source": [
    "#### Convert `sample_list_1` to a set called `set1`. Print the length of the set. Is its length still 80?"
   ]
  },
  {
   "cell_type": "code",
   "execution_count": 43,
   "metadata": {},
   "outputs": [
    {
     "name": "stdout",
     "output_type": "stream",
     "text": [
      "80\n",
      "{0, 2, 3, 4, 5, 6, 7, 8, 9, 10, 12, 14, 15, 16, 17, 19, 21, 22, 23, 24, 25, 26, 27, 28, 30, 31, 33, 34, 35, 36, 37, 38, 39, 42, 43, 44, 46, 47, 48, 49, 50, 51, 52, 53, 54, 55, 56, 58, 59, 60, 61, 62, 63, 64, 65, 66, 67, 68, 70, 71, 72, 73, 74, 77, 80, 82, 83, 84, 85, 87, 88, 89, 90, 91, 93, 94, 95, 97, 98, 99}\n"
     ]
    }
   ],
   "source": [
    "set1=set(sample_list_1)\n",
    "print(len(set1))\n",
    "print(set1)\n"
   ]
  },
  {
   "cell_type": "markdown",
   "metadata": {},
   "source": [
    "#### Create another list named `sample_list_2` with 80 random values.\n",
    "\n",
    "Requirements:\n",
    "\n",
    "* Each value is an integer falling between 0 and 100.\n",
    "* The values in the list don't have to be unique.\n",
    "\n",
    "*Hint: Use a FOR loop.*"
   ]
  },
  {
   "cell_type": "code",
   "execution_count": 44,
   "metadata": {},
   "outputs": [
    {
     "name": "stdout",
     "output_type": "stream",
     "text": [
      "[18, 97, 6, 68, 61, 8, 78, 28, 5, 71, 85, 58, 41, 34, 0, 87, 40, 81, 21, 77, 79, 31, 68, 46, 84, 27, 28, 61, 0, 99, 81, 53, 59, 21, 64, 65, 52, 8, 2, 101, 61, 44, 95, 92, 47, 93, 75, 33, 74, 26, 72, 23, 35, 53, 72, 17, 22, 50, 28, 55, 56, 14, 62, 52, 12, 7, 52, 35, 51, 54, 15, 61, 94, 84, 20, 13, 30, 29, 58, 28]\n",
      "80\n"
     ]
    }
   ],
   "source": [
    "sample_list_2 = []\n",
    "\n",
    "for i in range(80):\n",
    "    sample_list_2.append(random.randint(0, 101))\n",
    "    \n",
    "print(sample_list_2)\n",
    "print(len(sample_list_2))\n",
    "\n"
   ]
  },
  {
   "cell_type": "markdown",
   "metadata": {},
   "source": [
    "#### Convert `sample_list_2` to a set called `set2`. Print the length of the set. Is its length still 80?"
   ]
  },
  {
   "cell_type": "code",
   "execution_count": 45,
   "metadata": {},
   "outputs": [
    {
     "name": "stdout",
     "output_type": "stream",
     "text": [
      "62\n",
      "{0, 2, 5, 6, 7, 8, 12, 13, 14, 15, 17, 18, 20, 21, 22, 23, 26, 27, 28, 29, 30, 31, 33, 34, 35, 40, 41, 44, 46, 47, 50, 51, 52, 53, 54, 55, 56, 58, 59, 61, 62, 64, 65, 68, 71, 72, 74, 75, 77, 78, 79, 81, 84, 85, 87, 92, 93, 94, 95, 97, 99, 101}\n"
     ]
    }
   ],
   "source": [
    "set2=set(sample_list_2)\n",
    "print(len(set2))\n",
    "print(set2)"
   ]
  },
  {
   "cell_type": "markdown",
   "metadata": {},
   "source": [
    "#### Identify the elements present in `set1` but not in `set2`. Assign the elements to a new set named `set3`."
   ]
  },
  {
   "cell_type": "code",
   "execution_count": 46,
   "metadata": {},
   "outputs": [
    {
     "name": "stdout",
     "output_type": "stream",
     "text": [
      "{3, 4, 9, 10, 16, 19, 24, 25, 36, 37, 38, 39, 42, 43, 48, 49, 60, 63, 66, 67, 70, 73, 80, 82, 83, 88, 89, 90, 91, 98}\n"
     ]
    }
   ],
   "source": [
    "set3=set1-set2\n",
    "print(set3)\n"
   ]
  },
  {
   "cell_type": "markdown",
   "metadata": {},
   "source": [
    "#### Identify the elements present in `set2` but not in `set1`. Assign the elements to a new set named `set4`."
   ]
  },
  {
   "cell_type": "code",
   "execution_count": 47,
   "metadata": {},
   "outputs": [
    {
     "name": "stdout",
     "output_type": "stream",
     "text": [
      "{101, 40, 41, 75, 13, 78, 79, 81, 18, 20, 92, 29}\n"
     ]
    }
   ],
   "source": [
    "set4=set2-set1\n",
    "print(set4)\n"
   ]
  },
  {
   "cell_type": "markdown",
   "metadata": {},
   "source": [
    "#### Now Identify the elements shared between `set1` and `set2`. Assign the elements to a new set named `set5`."
   ]
  },
  {
   "cell_type": "code",
   "execution_count": 48,
   "metadata": {},
   "outputs": [
    {
     "name": "stdout",
     "output_type": "stream",
     "text": [
      "{0, 2, 5, 6, 7, 8, 12, 14, 15, 17, 21, 22, 23, 26, 27, 28, 30, 31, 33, 34, 35, 44, 46, 47, 50, 51, 52, 53, 54, 55, 56, 58, 59, 61, 62, 64, 65, 68, 71, 72, 74, 77, 84, 85, 87, 93, 94, 95, 97, 99}\n"
     ]
    }
   ],
   "source": [
    "set5=set1.intersection(set2)\n",
    "print(set5)\n"
   ]
  },
  {
   "cell_type": "markdown",
   "metadata": {},
   "source": [
    "#### What is the relationship among the following values:\n",
    "\n",
    "* len(set1)\n",
    "* len(set2)\n",
    "* len(set3)\n",
    "* len(set4)\n",
    "* len(set5)\n",
    "\n",
    "Use a math formular to represent that relationship. Test your formular with Python code."
   ]
  },
  {
   "cell_type": "code",
   "execution_count": 49,
   "metadata": {},
   "outputs": [
    {
     "name": "stdout",
     "output_type": "stream",
     "text": [
      "142\n",
      "142\n"
     ]
    }
   ],
   "source": [
    "#len(set1)+len(set2)=len(set3)+len(set4)+2×len(set5)\n",
    "\n",
    "len_set1=len(set1)\n",
    "len_set2=len(set2)\n",
    "len_set3=len(set3)\n",
    "len_set4=len(set4)\n",
    "len_set5=len(set5)\n",
    "\n",
    "\n",
    "total = len_set1 + len_set2\n",
    "total_2 = len_set3 + len_set4 + 2 * len_set5\n",
    "\n",
    "print(total)\n",
    "print(total_2)"
   ]
  },
  {
   "cell_type": "markdown",
   "metadata": {},
   "source": [
    "#### Create an empty set called `set6`."
   ]
  },
  {
   "cell_type": "code",
   "execution_count": 60,
   "metadata": {},
   "outputs": [
    {
     "name": "stdout",
     "output_type": "stream",
     "text": [
      "set()\n",
      "<class 'set'>\n"
     ]
    }
   ],
   "source": [
    "set6={}\n",
    "set6=set(set6)\n",
    "print(set6)\n",
    "print(type(set6))"
   ]
  },
  {
   "cell_type": "markdown",
   "metadata": {},
   "source": [
    "#### Add `set3` and `set5` to `set6` using the Python Set `update` method."
   ]
  },
  {
   "cell_type": "code",
   "execution_count": 61,
   "metadata": {},
   "outputs": [
    {
     "name": "stdout",
     "output_type": "stream",
     "text": [
      "{0, 2, 3, 4, 5, 6, 7, 8, 9, 10, 12, 14, 15, 16, 17, 19, 21, 22, 23, 24, 25, 26, 27, 28, 30, 31, 33, 34, 35, 36, 37, 38, 39, 42, 43, 44, 46, 47, 48, 49, 50, 51, 52, 53, 54, 55, 56, 58, 59, 60, 61, 62, 63, 64, 65, 66, 67, 68, 70, 71, 72, 73, 74, 77, 80, 82, 83, 84, 85, 87, 88, 89, 90, 91, 93, 94, 95, 97, 98, 99}\n"
     ]
    }
   ],
   "source": [
    "set6.update(set3,set5)\n",
    "print(set6)\n"
   ]
  },
  {
   "cell_type": "markdown",
   "metadata": {},
   "source": [
    "#### Check if `set1` and `set6` are equal."
   ]
  },
  {
   "cell_type": "code",
   "execution_count": 65,
   "metadata": {},
   "outputs": [
    {
     "name": "stdout",
     "output_type": "stream",
     "text": [
      "True\n"
     ]
    }
   ],
   "source": [
    "equal = set1 == set6\n",
    "print(equal)\n"
   ]
  },
  {
   "cell_type": "markdown",
   "metadata": {},
   "source": [
    "#### Check if `set1` contains `set2` using the Python Set `issubset` method. Then check if `set1` contains `set3`.*"
   ]
  },
  {
   "cell_type": "code",
   "execution_count": 68,
   "metadata": {},
   "outputs": [
    {
     "name": "stdout",
     "output_type": "stream",
     "text": [
      "False\n",
      "True\n"
     ]
    }
   ],
   "source": [
    "set1_contains_set2=set2.issubset(set1)\n",
    "print(set1_contains_set2)\n",
    "\n",
    "set1_contains_set3=set3.issubset(set1)\n",
    "print(set1_contains_set3)\n"
   ]
  },
  {
   "cell_type": "markdown",
   "metadata": {},
   "source": [
    "#### Using the Python Set `union` method, aggregate `set3`, `set4`, and `set5`. Then aggregate `set1` and `set2`. \n",
    "\n",
    "#### Check if the aggregated values are equal."
   ]
  },
  {
   "cell_type": "code",
   "execution_count": 70,
   "metadata": {},
   "outputs": [
    {
     "name": "stdout",
     "output_type": "stream",
     "text": [
      "True\n"
     ]
    }
   ],
   "source": [
    "aggregated_sets1 = set3.union(set4, set5)\n",
    "aggregated_sets2 = set1.union(set2)\n",
    "\n",
    "equal = aggregated_sets1 == aggregated_sets1\n",
    "print(equal)\n",
    "\n",
    "\n"
   ]
  },
  {
   "cell_type": "markdown",
   "metadata": {},
   "source": [
    "#### Using the `pop` method, remove the first element from `set1`."
   ]
  },
  {
   "cell_type": "code",
   "execution_count": 82,
   "metadata": {},
   "outputs": [
    {
     "name": "stdout",
     "output_type": "stream",
     "text": [
      "{7, 8, 9, 10, 12, 14, 15, 16, 17, 19, 21, 22, 23, 24, 25, 26, 27, 28, 30, 31, 33, 34, 35, 36, 37, 38, 39, 42, 43, 44, 46, 47, 48, 49, 50, 51, 52, 53, 54, 55, 56, 58, 59, 60, 61, 62, 63, 64, 65, 66, 67, 68, 70, 71, 72, 73, 74, 77, 80, 82, 83, 84, 85, 87, 88, 89, 90, 91, 93, 94, 95, 97, 98, 99}\n",
      "{8, 9, 10, 12, 14, 15, 16, 17, 19, 21, 22, 23, 24, 25, 26, 27, 28, 30, 31, 33, 34, 35, 36, 37, 38, 39, 42, 43, 44, 46, 47, 48, 49, 50, 51, 52, 53, 54, 55, 56, 58, 59, 60, 61, 62, 63, 64, 65, 66, 67, 68, 70, 71, 72, 73, 74, 77, 80, 82, 83, 84, 85, 87, 88, 89, 90, 91, 93, 94, 95, 97, 98, 99}\n"
     ]
    }
   ],
   "source": [
    "print(set1)\n",
    "set.pop(set1)\n",
    "print(set1)"
   ]
  },
  {
   "cell_type": "markdown",
   "metadata": {},
   "source": [
    "#### Remove every element in the following list from `set1` if they are present in the set. Print the remaining elements.\n",
    "\n",
    "```\n",
    "list_to_remove = [1, 9, 11, 19, 21, 29, 31, 39, 41, 49, 51, 59, 61, 69, 71, 79, 81, 89, 91, 99]\n",
    "```"
   ]
  },
  {
   "cell_type": "code",
   "execution_count": 83,
   "metadata": {},
   "outputs": [
    {
     "name": "stdout",
     "output_type": "stream",
     "text": [
      "Remaining elements in set1: {8, 10, 12, 14, 15, 16, 17, 22, 23, 24, 25, 26, 27, 28, 30, 33, 34, 35, 36, 37, 38, 42, 43, 44, 46, 47, 48, 50, 52, 53, 54, 55, 56, 58, 60, 62, 63, 64, 65, 66, 67, 68, 70, 72, 73, 74, 77, 80, 82, 83, 84, 85, 87, 88, 90, 93, 94, 95, 97, 98}\n"
     ]
    }
   ],
   "source": [
    "list_to_remove = [1, 9, 11, 19, 21, 29, 31, 39, 41, 49, 51, 59, 61, 69, 71, 79, 81, 89, 91, 99]\n",
    "\n",
    "for element in list_to_remove:\n",
    "    set1.discard(element)  \n",
    "\n",
    "print(f\"Remaining elements in set1: {set1}\")\n"
   ]
  },
  {
   "cell_type": "code",
   "execution_count": null,
   "metadata": {},
   "outputs": [],
   "source": []
  }
 ],
 "metadata": {
  "kernelspec": {
   "display_name": "Python 3 (ipykernel)",
   "language": "python",
   "name": "python3"
  },
  "language_info": {
   "codemirror_mode": {
    "name": "ipython",
    "version": 3
   },
   "file_extension": ".py",
   "mimetype": "text/x-python",
   "name": "python",
   "nbconvert_exporter": "python",
   "pygments_lexer": "ipython3",
   "version": "3.9.19"
  }
 },
 "nbformat": 4,
 "nbformat_minor": 2
}
